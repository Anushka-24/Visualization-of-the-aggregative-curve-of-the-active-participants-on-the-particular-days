{
 "cells": [
  {
   "cell_type": "markdown",
   "id": "459df65b",
   "metadata": {},
   "source": [
    "# Visualizing the active registered participants on the particular days\n"
   ]
  },
  {
   "cell_type": "markdown",
   "id": "5dc20408",
   "metadata": {},
   "source": [
    "# Description\n",
    "This is the original data set from the company where I am working. As I am working as a Data Analyst intern in an event management industry, most of the time I have to check which participants have been activated their profile till the event date. If the any of the participant did not activate their profile, I confirm my colleagues who are working with the event organisers so that they can send a notification to the participants to activate their profile. As this is the original data set so for security purpose of the company I can't upload the data. But I can tell that I have worked only with the participant id, registration date, registration time, invitation time, participant type, registration state columns.\n",
    "<br>\n",
    "As I want to visualize the graph for the unique number of active participants according to their registration date and also unique number of participants accorto their invitation date so I have made four functions.\n",
    "- First function is for all types of participants for the active status according to the registration date\n",
    "- Second function is for all types of the participants on each status according to their invitation date\n",
    "- Third one is for the individual participants with the active status. In every event, there could be different types of participants so this function will work for every participants no matter how many they are, developer just have to give the participant name in the function.\n",
    "- Fourth one is similar like my third function but here I am working with invitation date column and for all the registration status.\n",
    "\n",
    "<br>\n",
    "Let's jump to the work!"
   ]
  },
  {
   "cell_type": "code",
   "execution_count": 1,
   "id": "28ad62c6",
   "metadata": {},
   "outputs": [
    {
     "data": {
      "text/html": [
       "        <script type=\"text/javascript\">\n",
       "        window.PlotlyConfig = {MathJaxConfig: 'local'};\n",
       "        if (window.MathJax) {MathJax.Hub.Config({SVG: {font: \"STIX-Web\"}});}\n",
       "        if (typeof require !== 'undefined') {\n",
       "        require.undef(\"plotly\");\n",
       "        requirejs.config({\n",
       "            paths: {\n",
       "                'plotly': ['https://cdn.plot.ly/plotly-2.4.2.min']\n",
       "            }\n",
       "        });\n",
       "        require(['plotly'], function(Plotly) {\n",
       "            window._Plotly = Plotly;\n",
       "        });\n",
       "        }\n",
       "        </script>\n",
       "        "
      ]
     },
     "metadata": {},
     "output_type": "display_data"
    }
   ],
   "source": [
    "#import librarires\n",
    "import nbformat\n",
    "import plotly as py\n",
    "import plotly.express as px\n",
    "import plotly.graph_objects as go\n",
    "import pandas as pd\n",
    "import numpy as np\n",
    "import matplotlib.pyplot as plt\n",
    "from datetime import datetime as dt\n",
    "from plotly.offline import iplot\n",
    "py.offline.init_notebook_mode(connected=True)"
   ]
  },
  {
   "cell_type": "markdown",
   "id": "23873717",
   "metadata": {},
   "source": [
    "## Functions"
   ]
  },
  {
   "cell_type": "code",
   "execution_count": 2,
   "id": "fea929ec",
   "metadata": {},
   "outputs": [],
   "source": [
    "# Define the function. I am giving the parameters as the dataset and the columns which I needed.\n",
    "\n",
    "# Function for all types of active participants\n",
    "def all_active_participant(filename, column1, column2, column3, column4): \n",
    "\n",
    "    data=pd.read_excel(filename) # read the dataset\n",
    "    data[[column1,column2]]=data[[column1,column2]].apply(pd.to_datetime) # convert the date to the dat time structure in python \n",
    "    df=data[data[column4]=='Active'] # select the data only for the active status of the registration state\n",
    "    df=df.loc[:,[column3,column1]] # loc the the dataset on 'id' and 'registration date' column\n",
    "    df=df[column1].value_counts().sort_index().rename_axis('registration_date').reset_index(name='unique_count') # count unique number of participants using 'id' column\n",
    "    df['cum_reg']=df['unique_count'].cumsum() # in the new dataframe add a new column of cumulative value for the unique number of participants value\n",
    "    return df # return the new dataframe\n",
    "\n",
    "# Function for the all types of invited participants\n",
    "\n",
    "def all_invited_participant(filename, column1, column2, column3, column4):\n",
    "    data=pd.read_excel(filename)\n",
    "    data[[column1,column2]]=data[[column1,column2]].apply(pd.to_datetime)\n",
    "    df_inv=data.loc[:,[column2, column1]]\n",
    "    df_inv=df_inv[column2].value_counts().sort_index().rename_axis('invitation_date').reset_index(name='unique_count1')\n",
    "    df_inv['cum_inv']=df_inv['unique_count1'].cumsum()\n",
    "    return df_inv\n"
   ]
  },
  {
   "cell_type": "markdown",
   "id": "90e394b0",
   "metadata": {},
   "source": [
    "### Call the functions for the all participants"
   ]
  },
  {
   "cell_type": "code",
   "execution_count": 3,
   "id": "5c554783",
   "metadata": {},
   "outputs": [
    {
     "name": "stdout",
     "output_type": "stream",
     "text": [
      "   registration_date  unique_count  cum_reg\n",
      "0         2021-10-11             2        2\n",
      "1         2021-10-12             2        4\n",
      "2         2021-10-14             1        5\n",
      "3         2021-10-18            46       51\n",
      "4         2021-10-19            44       95\n",
      "5         2021-10-20            26      121\n",
      "6         2021-10-21            35      156\n",
      "7         2021-10-22            14      170\n",
      "8         2021-10-23             3      173\n",
      "9         2021-10-24             3      176\n",
      "10        2021-10-25            36      212\n",
      "11        2021-10-26            34      246\n",
      "12        2021-10-27            65      311\n",
      "13        2021-10-28           104      415\n",
      "14        2021-10-29             1      416\n",
      "15        2021-11-01             1      417\n",
      "   invitation_date  unique_count1  cum_inv\n",
      "0       2021-10-11            420      420\n",
      "1       2021-10-12             41      461\n",
      "2       2021-10-13             20      481\n",
      "3       2021-10-14             27      508\n",
      "4       2021-10-15             33      541\n",
      "5       2021-10-16              1      542\n",
      "6       2021-10-17              1      543\n",
      "7       2021-10-18              1      544\n",
      "8       2021-10-19              1      545\n",
      "9       2021-10-20              1      546\n",
      "10      2021-10-21              1      547\n",
      "11      2021-10-22              1      548\n",
      "12      2021-10-23              1      549\n",
      "13      2021-10-24              1      550\n",
      "14      2021-10-25              1      551\n",
      "15      2021-10-26              1      552\n",
      "16      2021-10-27              1      553\n",
      "17      2021-10-28              1      554\n",
      "18      2021-10-29             10      564\n"
     ]
    }
   ],
   "source": [
    "a=all_active_participant('talentboost.xlsx', 'Registration Date', 'Invitation date', 'id', 'registrationState') \n",
    "b=all_invited_participant('talentboost.xlsx', 'Registration Date', 'Invitation date', 'id', 'registrationState') \n",
    "print(a)\n",
    "print(b)\n"
   ]
  },
  {
   "cell_type": "code",
   "execution_count": 4,
   "id": "9e40a092",
   "metadata": {},
   "outputs": [],
   "source": [
    "# Function for individual participants for active status\n",
    "\n",
    "def individual_active_participant(filename, column1, column2, column3, column4, participantType):\n",
    "    data=pd.read_excel(filename) # read the dataset\n",
    "    data[[column1,column2]]=data[[column1,column2]].apply(pd.to_datetime)\n",
    "    df1= data[(data.participantType==participantType) & (data.registrationState=='Active')]\n",
    "    df1=df1.loc[:,[column3,column1]]\n",
    "    df1=df1[column1].value_counts().sort_index().rename_axis('reg_date').reset_index(name='unique_value')\n",
    "    df1['cumulative_value']=df1['unique_value'].cumsum() # create a new column to the dataframe and calculate the cumulative value from the unique number of the participants column\n",
    "    return df1\n",
    "\n",
    "# Function for individual participants for invitation date\n",
    "\n",
    "def individual_invited_participant(filename, column1, column2, column3, column4, participantType):\n",
    "    data=pd.read_excel(filename) # read the dataset\n",
    "    data[[column1,column2]]=data[[column1,column2]].apply(pd.to_datetime)\n",
    "    df1_inv= data[(data.participantType==participantType)]\n",
    "    df1_inv=df1_inv.loc[:,[column3,column2]]\n",
    "    df1_inv=df1_inv[column2].value_counts().sort_index().rename_axis('invitation_date').reset_index(name='unique_value1')\n",
    "    df1_inv['cum']=df1_inv['unique_value1'].cumsum() # create a new column to the dataframe and calculate the cumulative value from the unique number of the participants column\n",
    "    return df1_inv"
   ]
  },
  {
   "cell_type": "markdown",
   "id": "49e82a80",
   "metadata": {},
   "source": [
    "### Call the functions for the different types of participants"
   ]
  },
  {
   "cell_type": "code",
   "execution_count": 5,
   "id": "5a918935",
   "metadata": {},
   "outputs": [
    {
     "name": "stdout",
     "output_type": "stream",
     "text": [
      "     reg_date  unique_value  cumulative_value\n",
      "0  2021-10-11             1                 1\n",
      "1  2021-10-18            33                34\n",
      "2  2021-10-19            32                66\n",
      "3  2021-10-20            15                81\n",
      "4  2021-10-21            10                91\n",
      "5  2021-10-22             8                99\n",
      "6  2021-10-23             2               101\n",
      "7  2021-10-24             3               104\n",
      "8  2021-10-25            10               114\n",
      "9  2021-10-26            12               126\n",
      "10 2021-10-27            42               168\n",
      "11 2021-10-28            38               206\n",
      "   invitation_date  unique_value1  cum\n",
      "0       2021-10-11            206  206\n",
      "1       2021-10-12             28  234\n",
      "2       2021-10-13             15  249\n",
      "3       2021-10-14             17  266\n",
      "4       2021-10-15             25  291\n",
      "5       2021-10-16              1  292\n",
      "6       2021-10-17              1  293\n",
      "7       2021-10-18              1  294\n",
      "8       2021-10-19              1  295\n",
      "9       2021-10-20              1  296\n",
      "10      2021-10-21              1  297\n",
      "11      2021-10-22              1  298\n",
      "12      2021-10-25              1  299\n",
      "13      2021-10-27              1  300\n",
      "14      2021-10-28              1  301\n",
      "15      2021-10-29              5  306\n",
      "     reg_date  unique_value  cumulative_value\n",
      "0  2021-10-11             1                 1\n",
      "1  2021-10-18             3                 4\n",
      "2  2021-10-19             2                 6\n",
      "3  2021-10-20             3                 9\n",
      "4  2021-10-21             8                17\n",
      "5  2021-10-22             2                19\n",
      "6  2021-10-23             1                20\n",
      "7  2021-10-25             5                25\n",
      "8  2021-10-26             7                32\n",
      "9  2021-10-27             4                36\n",
      "10 2021-10-28             7                43\n",
      "  invitation_date  unique_value1  cum\n",
      "0      2021-10-11             43   43\n",
      "1      2021-10-14              1   44\n",
      "2      2021-10-15              2   46\n",
      "3      2021-10-26              1   47\n",
      "4      2021-10-29              1   48\n",
      "    reg_date  unique_value  cumulative_value\n",
      "0 2021-10-18            10                10\n",
      "1 2021-10-19             7                17\n",
      "2 2021-10-20             7                24\n",
      "3 2021-10-21            16                40\n",
      "4 2021-10-22             4                44\n",
      "5 2021-10-25            19                63\n",
      "6 2021-10-26            14                77\n",
      "7 2021-10-27            17                94\n",
      "8 2021-10-28            57               151\n",
      "9 2021-11-01             1               152\n",
      "  invitation_date  unique_value1  cum\n",
      "0      2021-10-11            152  152\n",
      "1      2021-10-12              4  156\n",
      "2      2021-10-13              3  159\n",
      "3      2021-10-14              2  161\n",
      "4      2021-10-15              6  167\n",
      "5      2021-10-24              1  168\n",
      "6      2021-10-29              1  169\n"
     ]
    }
   ],
   "source": [
    "# In this data set set, there are there types of participants such as Job seeker, recruiter and talent boost service provider. So, I am call the functions three times for the different participants for the the registration and invitation date.\n",
    "c_participant=individual_active_participant('talentboost.xlsx','Registration Date', 'Invitation date', 'id', 'registrationState', 'Job seeker')\n",
    "d_participant=individual_invited_participant('talentboost.xlsx','Registration Date', 'Invitation date', 'id', 'registrationState', 'Job seeker')\n",
    "e_participant=individual_active_participant('talentboost.xlsx','Registration Date', 'Invitation date', 'id', 'registrationState', 'Recruiter')\n",
    "f_participant=individual_invited_participant('talentboost.xlsx','Registration Date', 'Invitation date', 'id', 'registrationState', 'Recruiter')\n",
    "g_participant=individual_active_participant('talentboost.xlsx','Registration Date', 'Invitation date', 'id', 'registrationState', 'Talent Boost service provider')\n",
    "h_participant=individual_invited_participant('talentboost.xlsx','Registration Date', 'Invitation date', 'id', 'registrationState', 'Talent Boost service provider')\n",
    "\n",
    "print(c_participant)\n",
    "print(d_participant)\n",
    "print(e_participant)\n",
    "print(f_participant)\n",
    "print(g_participant)\n",
    "print(h_participant)\n"
   ]
  },
  {
   "cell_type": "markdown",
   "id": "08edb87c",
   "metadata": {},
   "source": [
    "### Visualization"
   ]
  },
  {
   "cell_type": "code",
   "execution_count": 6,
   "id": "d77ada68",
   "metadata": {},
   "outputs": [
    {
     "data": {
      "application/vnd.plotly.v1+json": {
       "config": {
        "plotlyServerURL": "https://plot.ly"
       },
       "data": [
        {
         "legendgroup": "group",
         "legendgrouptitle": {
          "text": "All participant type"
         },
         "marker": {
          "color": "crimson",
          "size": 6
         },
         "mode": "lines+markers",
         "name": "Cumulative graph",
         "type": "scatter",
         "x": [
          "2021-10-11T00:00:00",
          "2021-10-12T00:00:00",
          "2021-10-14T00:00:00",
          "2021-10-18T00:00:00",
          "2021-10-19T00:00:00",
          "2021-10-20T00:00:00",
          "2021-10-21T00:00:00",
          "2021-10-22T00:00:00",
          "2021-10-23T00:00:00",
          "2021-10-24T00:00:00",
          "2021-10-25T00:00:00",
          "2021-10-26T00:00:00",
          "2021-10-27T00:00:00",
          "2021-10-28T00:00:00",
          "2021-10-29T00:00:00",
          "2021-11-01T00:00:00"
         ],
         "y": [
          2,
          4,
          5,
          51,
          95,
          121,
          156,
          170,
          173,
          176,
          212,
          246,
          311,
          415,
          416,
          417
         ]
        },
        {
         "legendgroup": "group",
         "marker": {
          "color": "#bcbd22",
          "size": 6
         },
         "mode": "lines+markers",
         "name": "Invitation date Cumulative graph",
         "type": "scatter",
         "x": [
          "2021-10-11T00:00:00",
          "2021-10-12T00:00:00",
          "2021-10-13T00:00:00",
          "2021-10-14T00:00:00",
          "2021-10-15T00:00:00",
          "2021-10-16T00:00:00",
          "2021-10-17T00:00:00",
          "2021-10-18T00:00:00",
          "2021-10-19T00:00:00",
          "2021-10-20T00:00:00",
          "2021-10-21T00:00:00",
          "2021-10-22T00:00:00",
          "2021-10-23T00:00:00",
          "2021-10-24T00:00:00",
          "2021-10-25T00:00:00",
          "2021-10-26T00:00:00",
          "2021-10-27T00:00:00",
          "2021-10-28T00:00:00",
          "2021-10-29T00:00:00"
         ],
         "y": [
          420,
          461,
          481,
          508,
          541,
          542,
          543,
          544,
          545,
          546,
          547,
          548,
          549,
          550,
          551,
          552,
          553,
          554,
          564
         ]
        },
        {
         "legendgroup": "group",
         "name": "Total registered id on unique date",
         "type": "bar",
         "x": [
          "2021-10-11T00:00:00",
          "2021-10-12T00:00:00",
          "2021-10-14T00:00:00",
          "2021-10-18T00:00:00",
          "2021-10-19T00:00:00",
          "2021-10-20T00:00:00",
          "2021-10-21T00:00:00",
          "2021-10-22T00:00:00",
          "2021-10-23T00:00:00",
          "2021-10-24T00:00:00",
          "2021-10-25T00:00:00",
          "2021-10-26T00:00:00",
          "2021-10-27T00:00:00",
          "2021-10-28T00:00:00",
          "2021-10-29T00:00:00",
          "2021-11-01T00:00:00"
         ],
         "y": [
          2,
          2,
          1,
          46,
          44,
          26,
          35,
          14,
          3,
          3,
          36,
          34,
          65,
          104,
          1,
          1
         ]
        },
        {
         "legendgroup": "group2",
         "legendgrouptitle": {
          "text": "Participant type-Job seeker"
         },
         "marker": {
          "color": "MediumPurple",
          "size": 6
         },
         "mode": "lines+markers",
         "name": "Cumulative graph",
         "type": "scatter",
         "x": [
          "2021-10-11T00:00:00",
          "2021-10-18T00:00:00",
          "2021-10-19T00:00:00",
          "2021-10-20T00:00:00",
          "2021-10-21T00:00:00",
          "2021-10-22T00:00:00",
          "2021-10-23T00:00:00",
          "2021-10-24T00:00:00",
          "2021-10-25T00:00:00",
          "2021-10-26T00:00:00",
          "2021-10-27T00:00:00",
          "2021-10-28T00:00:00"
         ],
         "y": [
          1,
          34,
          66,
          81,
          91,
          99,
          101,
          104,
          114,
          126,
          168,
          206
         ]
        },
        {
         "legendgroup": "group2",
         "marker": {
          "color": "#e377c2",
          "size": 6
         },
         "mode": "lines+markers",
         "name": "Invitation date Cumulative graph for job seeker",
         "type": "scatter",
         "x": [
          "2021-10-11T00:00:00",
          "2021-10-12T00:00:00",
          "2021-10-13T00:00:00",
          "2021-10-14T00:00:00",
          "2021-10-15T00:00:00",
          "2021-10-16T00:00:00",
          "2021-10-17T00:00:00",
          "2021-10-18T00:00:00",
          "2021-10-19T00:00:00",
          "2021-10-20T00:00:00",
          "2021-10-21T00:00:00",
          "2021-10-22T00:00:00",
          "2021-10-25T00:00:00",
          "2021-10-27T00:00:00",
          "2021-10-28T00:00:00",
          "2021-10-29T00:00:00"
         ],
         "y": [
          206,
          234,
          249,
          266,
          291,
          292,
          293,
          294,
          295,
          296,
          297,
          298,
          299,
          300,
          301,
          306
         ]
        },
        {
         "legendgroup": "group2",
         "name": "Total registerd id on unique date",
         "type": "bar",
         "x": [
          "2021-10-11T00:00:00",
          "2021-10-18T00:00:00",
          "2021-10-19T00:00:00",
          "2021-10-20T00:00:00",
          "2021-10-21T00:00:00",
          "2021-10-22T00:00:00",
          "2021-10-23T00:00:00",
          "2021-10-24T00:00:00",
          "2021-10-25T00:00:00",
          "2021-10-26T00:00:00",
          "2021-10-27T00:00:00",
          "2021-10-28T00:00:00"
         ],
         "y": [
          1,
          33,
          32,
          15,
          10,
          8,
          2,
          3,
          10,
          12,
          42,
          38
         ]
        },
        {
         "legendgroup": "group3",
         "legendgrouptitle": {
          "text": "Participant type-Recruiter"
         },
         "marker": {
          "color": "chartreuse",
          "size": 6
         },
         "mode": "lines+markers",
         "name": "Cumulative graph",
         "type": "scatter",
         "x": [
          "2021-10-11T00:00:00",
          "2021-10-18T00:00:00",
          "2021-10-19T00:00:00",
          "2021-10-20T00:00:00",
          "2021-10-21T00:00:00",
          "2021-10-22T00:00:00",
          "2021-10-23T00:00:00",
          "2021-10-25T00:00:00",
          "2021-10-26T00:00:00",
          "2021-10-27T00:00:00",
          "2021-10-28T00:00:00"
         ],
         "y": [
          1,
          4,
          6,
          9,
          17,
          19,
          20,
          25,
          32,
          36,
          43
         ]
        },
        {
         "legendgroup": "group3",
         "marker": {
          "color": "#2ca02c",
          "size": 6
         },
         "mode": "lines+markers",
         "name": "Invitation date Cumulative graph for recruiter",
         "type": "scatter",
         "x": [
          "2021-10-11T00:00:00",
          "2021-10-14T00:00:00",
          "2021-10-15T00:00:00",
          "2021-10-26T00:00:00",
          "2021-10-29T00:00:00"
         ],
         "y": [
          43,
          44,
          46,
          47,
          48
         ]
        },
        {
         "legendgroup": "group3",
         "marker": {
          "color": "chartreuse"
         },
         "name": "Total registerd id on unique date",
         "type": "bar",
         "x": [
          "2021-10-11T00:00:00",
          "2021-10-18T00:00:00",
          "2021-10-19T00:00:00",
          "2021-10-20T00:00:00",
          "2021-10-21T00:00:00",
          "2021-10-22T00:00:00",
          "2021-10-23T00:00:00",
          "2021-10-25T00:00:00",
          "2021-10-26T00:00:00",
          "2021-10-27T00:00:00",
          "2021-10-28T00:00:00"
         ],
         "y": [
          1,
          3,
          2,
          3,
          8,
          2,
          1,
          5,
          7,
          4,
          7
         ]
        },
        {
         "legendgroup": "group4",
         "legendgrouptitle": {
          "text": "Participant ype-Talent boost service provider"
         },
         "marker": {
          "color": "darkblue",
          "size": 6
         },
         "mode": "lines+markers",
         "name": "Cumulative graph",
         "type": "scatter",
         "x": [
          "2021-10-11T00:00:00",
          "2021-10-18T00:00:00",
          "2021-10-19T00:00:00",
          "2021-10-20T00:00:00",
          "2021-10-21T00:00:00",
          "2021-10-22T00:00:00",
          "2021-10-23T00:00:00",
          "2021-10-25T00:00:00",
          "2021-10-26T00:00:00",
          "2021-10-27T00:00:00",
          "2021-10-28T00:00:00"
         ],
         "y": [
          1,
          4,
          6,
          9,
          17,
          19,
          20,
          25,
          32,
          36,
          43
         ]
        },
        {
         "legendgroup": "group4",
         "marker": {
          "color": "#2ca02c",
          "size": 6
         },
         "mode": "lines+markers",
         "name": "Invitation date Cumulative graph for service provider",
         "type": "scatter",
         "x": [
          "2021-10-11T00:00:00",
          "2021-10-14T00:00:00",
          "2021-10-15T00:00:00",
          "2021-10-26T00:00:00",
          "2021-10-29T00:00:00"
         ],
         "y": [
          43,
          44,
          46,
          47,
          48
         ]
        },
        {
         "legendgroup": "group4",
         "marker": {
          "color": "darkblue"
         },
         "name": "Total registerd id on unique date",
         "type": "bar",
         "x": [
          "2021-10-11T00:00:00",
          "2021-10-18T00:00:00",
          "2021-10-19T00:00:00",
          "2021-10-20T00:00:00",
          "2021-10-21T00:00:00",
          "2021-10-22T00:00:00",
          "2021-10-23T00:00:00",
          "2021-10-25T00:00:00",
          "2021-10-26T00:00:00",
          "2021-10-27T00:00:00",
          "2021-10-28T00:00:00"
         ],
         "y": [
          1,
          3,
          2,
          3,
          8,
          2,
          1,
          5,
          7,
          4,
          7
         ]
        }
       ],
       "layout": {
        "template": {
         "data": {
          "bar": [
           {
            "error_x": {
             "color": "#2a3f5f"
            },
            "error_y": {
             "color": "#2a3f5f"
            },
            "marker": {
             "line": {
              "color": "#E5ECF6",
              "width": 0.5
             },
             "pattern": {
              "fillmode": "overlay",
              "size": 10,
              "solidity": 0.2
             }
            },
            "type": "bar"
           }
          ],
          "barpolar": [
           {
            "marker": {
             "line": {
              "color": "#E5ECF6",
              "width": 0.5
             },
             "pattern": {
              "fillmode": "overlay",
              "size": 10,
              "solidity": 0.2
             }
            },
            "type": "barpolar"
           }
          ],
          "carpet": [
           {
            "aaxis": {
             "endlinecolor": "#2a3f5f",
             "gridcolor": "white",
             "linecolor": "white",
             "minorgridcolor": "white",
             "startlinecolor": "#2a3f5f"
            },
            "baxis": {
             "endlinecolor": "#2a3f5f",
             "gridcolor": "white",
             "linecolor": "white",
             "minorgridcolor": "white",
             "startlinecolor": "#2a3f5f"
            },
            "type": "carpet"
           }
          ],
          "choropleth": [
           {
            "colorbar": {
             "outlinewidth": 0,
             "ticks": ""
            },
            "type": "choropleth"
           }
          ],
          "contour": [
           {
            "colorbar": {
             "outlinewidth": 0,
             "ticks": ""
            },
            "colorscale": [
             [
              0,
              "#0d0887"
             ],
             [
              0.1111111111111111,
              "#46039f"
             ],
             [
              0.2222222222222222,
              "#7201a8"
             ],
             [
              0.3333333333333333,
              "#9c179e"
             ],
             [
              0.4444444444444444,
              "#bd3786"
             ],
             [
              0.5555555555555556,
              "#d8576b"
             ],
             [
              0.6666666666666666,
              "#ed7953"
             ],
             [
              0.7777777777777778,
              "#fb9f3a"
             ],
             [
              0.8888888888888888,
              "#fdca26"
             ],
             [
              1,
              "#f0f921"
             ]
            ],
            "type": "contour"
           }
          ],
          "contourcarpet": [
           {
            "colorbar": {
             "outlinewidth": 0,
             "ticks": ""
            },
            "type": "contourcarpet"
           }
          ],
          "heatmap": [
           {
            "colorbar": {
             "outlinewidth": 0,
             "ticks": ""
            },
            "colorscale": [
             [
              0,
              "#0d0887"
             ],
             [
              0.1111111111111111,
              "#46039f"
             ],
             [
              0.2222222222222222,
              "#7201a8"
             ],
             [
              0.3333333333333333,
              "#9c179e"
             ],
             [
              0.4444444444444444,
              "#bd3786"
             ],
             [
              0.5555555555555556,
              "#d8576b"
             ],
             [
              0.6666666666666666,
              "#ed7953"
             ],
             [
              0.7777777777777778,
              "#fb9f3a"
             ],
             [
              0.8888888888888888,
              "#fdca26"
             ],
             [
              1,
              "#f0f921"
             ]
            ],
            "type": "heatmap"
           }
          ],
          "heatmapgl": [
           {
            "colorbar": {
             "outlinewidth": 0,
             "ticks": ""
            },
            "colorscale": [
             [
              0,
              "#0d0887"
             ],
             [
              0.1111111111111111,
              "#46039f"
             ],
             [
              0.2222222222222222,
              "#7201a8"
             ],
             [
              0.3333333333333333,
              "#9c179e"
             ],
             [
              0.4444444444444444,
              "#bd3786"
             ],
             [
              0.5555555555555556,
              "#d8576b"
             ],
             [
              0.6666666666666666,
              "#ed7953"
             ],
             [
              0.7777777777777778,
              "#fb9f3a"
             ],
             [
              0.8888888888888888,
              "#fdca26"
             ],
             [
              1,
              "#f0f921"
             ]
            ],
            "type": "heatmapgl"
           }
          ],
          "histogram": [
           {
            "marker": {
             "pattern": {
              "fillmode": "overlay",
              "size": 10,
              "solidity": 0.2
             }
            },
            "type": "histogram"
           }
          ],
          "histogram2d": [
           {
            "colorbar": {
             "outlinewidth": 0,
             "ticks": ""
            },
            "colorscale": [
             [
              0,
              "#0d0887"
             ],
             [
              0.1111111111111111,
              "#46039f"
             ],
             [
              0.2222222222222222,
              "#7201a8"
             ],
             [
              0.3333333333333333,
              "#9c179e"
             ],
             [
              0.4444444444444444,
              "#bd3786"
             ],
             [
              0.5555555555555556,
              "#d8576b"
             ],
             [
              0.6666666666666666,
              "#ed7953"
             ],
             [
              0.7777777777777778,
              "#fb9f3a"
             ],
             [
              0.8888888888888888,
              "#fdca26"
             ],
             [
              1,
              "#f0f921"
             ]
            ],
            "type": "histogram2d"
           }
          ],
          "histogram2dcontour": [
           {
            "colorbar": {
             "outlinewidth": 0,
             "ticks": ""
            },
            "colorscale": [
             [
              0,
              "#0d0887"
             ],
             [
              0.1111111111111111,
              "#46039f"
             ],
             [
              0.2222222222222222,
              "#7201a8"
             ],
             [
              0.3333333333333333,
              "#9c179e"
             ],
             [
              0.4444444444444444,
              "#bd3786"
             ],
             [
              0.5555555555555556,
              "#d8576b"
             ],
             [
              0.6666666666666666,
              "#ed7953"
             ],
             [
              0.7777777777777778,
              "#fb9f3a"
             ],
             [
              0.8888888888888888,
              "#fdca26"
             ],
             [
              1,
              "#f0f921"
             ]
            ],
            "type": "histogram2dcontour"
           }
          ],
          "mesh3d": [
           {
            "colorbar": {
             "outlinewidth": 0,
             "ticks": ""
            },
            "type": "mesh3d"
           }
          ],
          "parcoords": [
           {
            "line": {
             "colorbar": {
              "outlinewidth": 0,
              "ticks": ""
             }
            },
            "type": "parcoords"
           }
          ],
          "pie": [
           {
            "automargin": true,
            "type": "pie"
           }
          ],
          "scatter": [
           {
            "marker": {
             "colorbar": {
              "outlinewidth": 0,
              "ticks": ""
             }
            },
            "type": "scatter"
           }
          ],
          "scatter3d": [
           {
            "line": {
             "colorbar": {
              "outlinewidth": 0,
              "ticks": ""
             }
            },
            "marker": {
             "colorbar": {
              "outlinewidth": 0,
              "ticks": ""
             }
            },
            "type": "scatter3d"
           }
          ],
          "scattercarpet": [
           {
            "marker": {
             "colorbar": {
              "outlinewidth": 0,
              "ticks": ""
             }
            },
            "type": "scattercarpet"
           }
          ],
          "scattergeo": [
           {
            "marker": {
             "colorbar": {
              "outlinewidth": 0,
              "ticks": ""
             }
            },
            "type": "scattergeo"
           }
          ],
          "scattergl": [
           {
            "marker": {
             "colorbar": {
              "outlinewidth": 0,
              "ticks": ""
             }
            },
            "type": "scattergl"
           }
          ],
          "scattermapbox": [
           {
            "marker": {
             "colorbar": {
              "outlinewidth": 0,
              "ticks": ""
             }
            },
            "type": "scattermapbox"
           }
          ],
          "scatterpolar": [
           {
            "marker": {
             "colorbar": {
              "outlinewidth": 0,
              "ticks": ""
             }
            },
            "type": "scatterpolar"
           }
          ],
          "scatterpolargl": [
           {
            "marker": {
             "colorbar": {
              "outlinewidth": 0,
              "ticks": ""
             }
            },
            "type": "scatterpolargl"
           }
          ],
          "scatterternary": [
           {
            "marker": {
             "colorbar": {
              "outlinewidth": 0,
              "ticks": ""
             }
            },
            "type": "scatterternary"
           }
          ],
          "surface": [
           {
            "colorbar": {
             "outlinewidth": 0,
             "ticks": ""
            },
            "colorscale": [
             [
              0,
              "#0d0887"
             ],
             [
              0.1111111111111111,
              "#46039f"
             ],
             [
              0.2222222222222222,
              "#7201a8"
             ],
             [
              0.3333333333333333,
              "#9c179e"
             ],
             [
              0.4444444444444444,
              "#bd3786"
             ],
             [
              0.5555555555555556,
              "#d8576b"
             ],
             [
              0.6666666666666666,
              "#ed7953"
             ],
             [
              0.7777777777777778,
              "#fb9f3a"
             ],
             [
              0.8888888888888888,
              "#fdca26"
             ],
             [
              1,
              "#f0f921"
             ]
            ],
            "type": "surface"
           }
          ],
          "table": [
           {
            "cells": {
             "fill": {
              "color": "#EBF0F8"
             },
             "line": {
              "color": "white"
             }
            },
            "header": {
             "fill": {
              "color": "#C8D4E3"
             },
             "line": {
              "color": "white"
             }
            },
            "type": "table"
           }
          ]
         },
         "layout": {
          "annotationdefaults": {
           "arrowcolor": "#2a3f5f",
           "arrowhead": 0,
           "arrowwidth": 1
          },
          "autotypenumbers": "strict",
          "coloraxis": {
           "colorbar": {
            "outlinewidth": 0,
            "ticks": ""
           }
          },
          "colorscale": {
           "diverging": [
            [
             0,
             "#8e0152"
            ],
            [
             0.1,
             "#c51b7d"
            ],
            [
             0.2,
             "#de77ae"
            ],
            [
             0.3,
             "#f1b6da"
            ],
            [
             0.4,
             "#fde0ef"
            ],
            [
             0.5,
             "#f7f7f7"
            ],
            [
             0.6,
             "#e6f5d0"
            ],
            [
             0.7,
             "#b8e186"
            ],
            [
             0.8,
             "#7fbc41"
            ],
            [
             0.9,
             "#4d9221"
            ],
            [
             1,
             "#276419"
            ]
           ],
           "sequential": [
            [
             0,
             "#0d0887"
            ],
            [
             0.1111111111111111,
             "#46039f"
            ],
            [
             0.2222222222222222,
             "#7201a8"
            ],
            [
             0.3333333333333333,
             "#9c179e"
            ],
            [
             0.4444444444444444,
             "#bd3786"
            ],
            [
             0.5555555555555556,
             "#d8576b"
            ],
            [
             0.6666666666666666,
             "#ed7953"
            ],
            [
             0.7777777777777778,
             "#fb9f3a"
            ],
            [
             0.8888888888888888,
             "#fdca26"
            ],
            [
             1,
             "#f0f921"
            ]
           ],
           "sequentialminus": [
            [
             0,
             "#0d0887"
            ],
            [
             0.1111111111111111,
             "#46039f"
            ],
            [
             0.2222222222222222,
             "#7201a8"
            ],
            [
             0.3333333333333333,
             "#9c179e"
            ],
            [
             0.4444444444444444,
             "#bd3786"
            ],
            [
             0.5555555555555556,
             "#d8576b"
            ],
            [
             0.6666666666666666,
             "#ed7953"
            ],
            [
             0.7777777777777778,
             "#fb9f3a"
            ],
            [
             0.8888888888888888,
             "#fdca26"
            ],
            [
             1,
             "#f0f921"
            ]
           ]
          },
          "colorway": [
           "#636efa",
           "#EF553B",
           "#00cc96",
           "#ab63fa",
           "#FFA15A",
           "#19d3f3",
           "#FF6692",
           "#B6E880",
           "#FF97FF",
           "#FECB52"
          ],
          "font": {
           "color": "#2a3f5f"
          },
          "geo": {
           "bgcolor": "white",
           "lakecolor": "white",
           "landcolor": "#E5ECF6",
           "showlakes": true,
           "showland": true,
           "subunitcolor": "white"
          },
          "hoverlabel": {
           "align": "left"
          },
          "hovermode": "closest",
          "mapbox": {
           "style": "light"
          },
          "paper_bgcolor": "white",
          "plot_bgcolor": "#E5ECF6",
          "polar": {
           "angularaxis": {
            "gridcolor": "white",
            "linecolor": "white",
            "ticks": ""
           },
           "bgcolor": "#E5ECF6",
           "radialaxis": {
            "gridcolor": "white",
            "linecolor": "white",
            "ticks": ""
           }
          },
          "scene": {
           "xaxis": {
            "backgroundcolor": "#E5ECF6",
            "gridcolor": "white",
            "gridwidth": 2,
            "linecolor": "white",
            "showbackground": true,
            "ticks": "",
            "zerolinecolor": "white"
           },
           "yaxis": {
            "backgroundcolor": "#E5ECF6",
            "gridcolor": "white",
            "gridwidth": 2,
            "linecolor": "white",
            "showbackground": true,
            "ticks": "",
            "zerolinecolor": "white"
           },
           "zaxis": {
            "backgroundcolor": "#E5ECF6",
            "gridcolor": "white",
            "gridwidth": 2,
            "linecolor": "white",
            "showbackground": true,
            "ticks": "",
            "zerolinecolor": "white"
           }
          },
          "shapedefaults": {
           "line": {
            "color": "#2a3f5f"
           }
          },
          "ternary": {
           "aaxis": {
            "gridcolor": "white",
            "linecolor": "white",
            "ticks": ""
           },
           "baxis": {
            "gridcolor": "white",
            "linecolor": "white",
            "ticks": ""
           },
           "bgcolor": "#E5ECF6",
           "caxis": {
            "gridcolor": "white",
            "linecolor": "white",
            "ticks": ""
           }
          },
          "title": {
           "x": 0.05
          },
          "xaxis": {
           "automargin": true,
           "gridcolor": "white",
           "linecolor": "white",
           "ticks": "",
           "title": {
            "standoff": 15
           },
           "zerolinecolor": "white",
           "zerolinewidth": 2
          },
          "yaxis": {
           "automargin": true,
           "gridcolor": "white",
           "linecolor": "white",
           "ticks": "",
           "title": {
            "standoff": 15
           },
           "zerolinecolor": "white",
           "zerolinewidth": 2
          }
         }
        },
        "title": {
         "text": "Aggregative active registration per day & the invitation per day",
         "x": 0.4,
         "xanchor": "center",
         "y": 0.95,
         "yanchor": "top"
        },
        "xaxis": {
         "range": [
          "2021-10-11T00:00:00",
          "2021-11-02"
         ],
         "rangeslider": {
          "visible": true
         },
         "showticklabels": true,
         "title": {
          "text": "Registration Date"
         },
         "visible": true
        },
        "yaxis": {
         "showticklabels": true,
         "title": {
          "text": "Unique Registration/Day"
         },
         "visible": true
        }
       }
      },
      "text/html": [
       "<div>                            <div id=\"070bcc75-b096-4dbd-b8da-43ab13816627\" class=\"plotly-graph-div\" style=\"height:525px; width:100%;\"></div>            <script type=\"text/javascript\">                require([\"plotly\"], function(Plotly) {                    window.PLOTLYENV=window.PLOTLYENV || {};                                    if (document.getElementById(\"070bcc75-b096-4dbd-b8da-43ab13816627\")) {                    Plotly.newPlot(                        \"070bcc75-b096-4dbd-b8da-43ab13816627\",                        [{\"legendgroup\":\"group\",\"legendgrouptitle\":{\"text\":\"All participant type\"},\"marker\":{\"color\":\"crimson\",\"size\":6},\"mode\":\"lines+markers\",\"name\":\"Cumulative graph\",\"type\":\"scatter\",\"x\":[\"2021-10-11T00:00:00\",\"2021-10-12T00:00:00\",\"2021-10-14T00:00:00\",\"2021-10-18T00:00:00\",\"2021-10-19T00:00:00\",\"2021-10-20T00:00:00\",\"2021-10-21T00:00:00\",\"2021-10-22T00:00:00\",\"2021-10-23T00:00:00\",\"2021-10-24T00:00:00\",\"2021-10-25T00:00:00\",\"2021-10-26T00:00:00\",\"2021-10-27T00:00:00\",\"2021-10-28T00:00:00\",\"2021-10-29T00:00:00\",\"2021-11-01T00:00:00\"],\"y\":[2,4,5,51,95,121,156,170,173,176,212,246,311,415,416,417]},{\"legendgroup\":\"group\",\"marker\":{\"color\":\"#bcbd22\",\"size\":6},\"mode\":\"lines+markers\",\"name\":\"Invitation date Cumulative graph\",\"type\":\"scatter\",\"x\":[\"2021-10-11T00:00:00\",\"2021-10-12T00:00:00\",\"2021-10-13T00:00:00\",\"2021-10-14T00:00:00\",\"2021-10-15T00:00:00\",\"2021-10-16T00:00:00\",\"2021-10-17T00:00:00\",\"2021-10-18T00:00:00\",\"2021-10-19T00:00:00\",\"2021-10-20T00:00:00\",\"2021-10-21T00:00:00\",\"2021-10-22T00:00:00\",\"2021-10-23T00:00:00\",\"2021-10-24T00:00:00\",\"2021-10-25T00:00:00\",\"2021-10-26T00:00:00\",\"2021-10-27T00:00:00\",\"2021-10-28T00:00:00\",\"2021-10-29T00:00:00\"],\"y\":[420,461,481,508,541,542,543,544,545,546,547,548,549,550,551,552,553,554,564]},{\"legendgroup\":\"group\",\"name\":\"Total registered id on unique date\",\"type\":\"bar\",\"x\":[\"2021-10-11T00:00:00\",\"2021-10-12T00:00:00\",\"2021-10-14T00:00:00\",\"2021-10-18T00:00:00\",\"2021-10-19T00:00:00\",\"2021-10-20T00:00:00\",\"2021-10-21T00:00:00\",\"2021-10-22T00:00:00\",\"2021-10-23T00:00:00\",\"2021-10-24T00:00:00\",\"2021-10-25T00:00:00\",\"2021-10-26T00:00:00\",\"2021-10-27T00:00:00\",\"2021-10-28T00:00:00\",\"2021-10-29T00:00:00\",\"2021-11-01T00:00:00\"],\"y\":[2,2,1,46,44,26,35,14,3,3,36,34,65,104,1,1]},{\"legendgroup\":\"group2\",\"legendgrouptitle\":{\"text\":\"Participant type-Job seeker\"},\"marker\":{\"color\":\"MediumPurple\",\"size\":6},\"mode\":\"lines+markers\",\"name\":\"Cumulative graph\",\"type\":\"scatter\",\"x\":[\"2021-10-11T00:00:00\",\"2021-10-18T00:00:00\",\"2021-10-19T00:00:00\",\"2021-10-20T00:00:00\",\"2021-10-21T00:00:00\",\"2021-10-22T00:00:00\",\"2021-10-23T00:00:00\",\"2021-10-24T00:00:00\",\"2021-10-25T00:00:00\",\"2021-10-26T00:00:00\",\"2021-10-27T00:00:00\",\"2021-10-28T00:00:00\"],\"y\":[1,34,66,81,91,99,101,104,114,126,168,206]},{\"legendgroup\":\"group2\",\"marker\":{\"color\":\"#e377c2\",\"size\":6},\"mode\":\"lines+markers\",\"name\":\"Invitation date Cumulative graph for job seeker\",\"type\":\"scatter\",\"x\":[\"2021-10-11T00:00:00\",\"2021-10-12T00:00:00\",\"2021-10-13T00:00:00\",\"2021-10-14T00:00:00\",\"2021-10-15T00:00:00\",\"2021-10-16T00:00:00\",\"2021-10-17T00:00:00\",\"2021-10-18T00:00:00\",\"2021-10-19T00:00:00\",\"2021-10-20T00:00:00\",\"2021-10-21T00:00:00\",\"2021-10-22T00:00:00\",\"2021-10-25T00:00:00\",\"2021-10-27T00:00:00\",\"2021-10-28T00:00:00\",\"2021-10-29T00:00:00\"],\"y\":[206,234,249,266,291,292,293,294,295,296,297,298,299,300,301,306]},{\"legendgroup\":\"group2\",\"name\":\"Total registerd id on unique date\",\"type\":\"bar\",\"x\":[\"2021-10-11T00:00:00\",\"2021-10-18T00:00:00\",\"2021-10-19T00:00:00\",\"2021-10-20T00:00:00\",\"2021-10-21T00:00:00\",\"2021-10-22T00:00:00\",\"2021-10-23T00:00:00\",\"2021-10-24T00:00:00\",\"2021-10-25T00:00:00\",\"2021-10-26T00:00:00\",\"2021-10-27T00:00:00\",\"2021-10-28T00:00:00\"],\"y\":[1,33,32,15,10,8,2,3,10,12,42,38]},{\"legendgroup\":\"group3\",\"legendgrouptitle\":{\"text\":\"Participant type-Recruiter\"},\"marker\":{\"color\":\"chartreuse\",\"size\":6},\"mode\":\"lines+markers\",\"name\":\"Cumulative graph\",\"type\":\"scatter\",\"x\":[\"2021-10-11T00:00:00\",\"2021-10-18T00:00:00\",\"2021-10-19T00:00:00\",\"2021-10-20T00:00:00\",\"2021-10-21T00:00:00\",\"2021-10-22T00:00:00\",\"2021-10-23T00:00:00\",\"2021-10-25T00:00:00\",\"2021-10-26T00:00:00\",\"2021-10-27T00:00:00\",\"2021-10-28T00:00:00\"],\"y\":[1,4,6,9,17,19,20,25,32,36,43]},{\"legendgroup\":\"group3\",\"marker\":{\"color\":\"#2ca02c\",\"size\":6},\"mode\":\"lines+markers\",\"name\":\"Invitation date Cumulative graph for recruiter\",\"type\":\"scatter\",\"x\":[\"2021-10-11T00:00:00\",\"2021-10-14T00:00:00\",\"2021-10-15T00:00:00\",\"2021-10-26T00:00:00\",\"2021-10-29T00:00:00\"],\"y\":[43,44,46,47,48]},{\"legendgroup\":\"group3\",\"marker\":{\"color\":\"chartreuse\"},\"name\":\"Total registerd id on unique date\",\"type\":\"bar\",\"x\":[\"2021-10-11T00:00:00\",\"2021-10-18T00:00:00\",\"2021-10-19T00:00:00\",\"2021-10-20T00:00:00\",\"2021-10-21T00:00:00\",\"2021-10-22T00:00:00\",\"2021-10-23T00:00:00\",\"2021-10-25T00:00:00\",\"2021-10-26T00:00:00\",\"2021-10-27T00:00:00\",\"2021-10-28T00:00:00\"],\"y\":[1,3,2,3,8,2,1,5,7,4,7]},{\"legendgroup\":\"group4\",\"legendgrouptitle\":{\"text\":\"Participant ype-Talent boost service provider\"},\"marker\":{\"color\":\"darkblue\",\"size\":6},\"mode\":\"lines+markers\",\"name\":\"Cumulative graph\",\"type\":\"scatter\",\"x\":[\"2021-10-11T00:00:00\",\"2021-10-18T00:00:00\",\"2021-10-19T00:00:00\",\"2021-10-20T00:00:00\",\"2021-10-21T00:00:00\",\"2021-10-22T00:00:00\",\"2021-10-23T00:00:00\",\"2021-10-25T00:00:00\",\"2021-10-26T00:00:00\",\"2021-10-27T00:00:00\",\"2021-10-28T00:00:00\"],\"y\":[1,4,6,9,17,19,20,25,32,36,43]},{\"legendgroup\":\"group4\",\"marker\":{\"color\":\"#2ca02c\",\"size\":6},\"mode\":\"lines+markers\",\"name\":\"Invitation date Cumulative graph for service provider\",\"type\":\"scatter\",\"x\":[\"2021-10-11T00:00:00\",\"2021-10-14T00:00:00\",\"2021-10-15T00:00:00\",\"2021-10-26T00:00:00\",\"2021-10-29T00:00:00\"],\"y\":[43,44,46,47,48]},{\"legendgroup\":\"group4\",\"marker\":{\"color\":\"darkblue\"},\"name\":\"Total registerd id on unique date\",\"type\":\"bar\",\"x\":[\"2021-10-11T00:00:00\",\"2021-10-18T00:00:00\",\"2021-10-19T00:00:00\",\"2021-10-20T00:00:00\",\"2021-10-21T00:00:00\",\"2021-10-22T00:00:00\",\"2021-10-23T00:00:00\",\"2021-10-25T00:00:00\",\"2021-10-26T00:00:00\",\"2021-10-27T00:00:00\",\"2021-10-28T00:00:00\"],\"y\":[1,3,2,3,8,2,1,5,7,4,7]}],                        {\"template\":{\"data\":{\"bar\":[{\"error_x\":{\"color\":\"#2a3f5f\"},\"error_y\":{\"color\":\"#2a3f5f\"},\"marker\":{\"line\":{\"color\":\"#E5ECF6\",\"width\":0.5},\"pattern\":{\"fillmode\":\"overlay\",\"size\":10,\"solidity\":0.2}},\"type\":\"bar\"}],\"barpolar\":[{\"marker\":{\"line\":{\"color\":\"#E5ECF6\",\"width\":0.5},\"pattern\":{\"fillmode\":\"overlay\",\"size\":10,\"solidity\":0.2}},\"type\":\"barpolar\"}],\"carpet\":[{\"aaxis\":{\"endlinecolor\":\"#2a3f5f\",\"gridcolor\":\"white\",\"linecolor\":\"white\",\"minorgridcolor\":\"white\",\"startlinecolor\":\"#2a3f5f\"},\"baxis\":{\"endlinecolor\":\"#2a3f5f\",\"gridcolor\":\"white\",\"linecolor\":\"white\",\"minorgridcolor\":\"white\",\"startlinecolor\":\"#2a3f5f\"},\"type\":\"carpet\"}],\"choropleth\":[{\"colorbar\":{\"outlinewidth\":0,\"ticks\":\"\"},\"type\":\"choropleth\"}],\"contour\":[{\"colorbar\":{\"outlinewidth\":0,\"ticks\":\"\"},\"colorscale\":[[0.0,\"#0d0887\"],[0.1111111111111111,\"#46039f\"],[0.2222222222222222,\"#7201a8\"],[0.3333333333333333,\"#9c179e\"],[0.4444444444444444,\"#bd3786\"],[0.5555555555555556,\"#d8576b\"],[0.6666666666666666,\"#ed7953\"],[0.7777777777777778,\"#fb9f3a\"],[0.8888888888888888,\"#fdca26\"],[1.0,\"#f0f921\"]],\"type\":\"contour\"}],\"contourcarpet\":[{\"colorbar\":{\"outlinewidth\":0,\"ticks\":\"\"},\"type\":\"contourcarpet\"}],\"heatmap\":[{\"colorbar\":{\"outlinewidth\":0,\"ticks\":\"\"},\"colorscale\":[[0.0,\"#0d0887\"],[0.1111111111111111,\"#46039f\"],[0.2222222222222222,\"#7201a8\"],[0.3333333333333333,\"#9c179e\"],[0.4444444444444444,\"#bd3786\"],[0.5555555555555556,\"#d8576b\"],[0.6666666666666666,\"#ed7953\"],[0.7777777777777778,\"#fb9f3a\"],[0.8888888888888888,\"#fdca26\"],[1.0,\"#f0f921\"]],\"type\":\"heatmap\"}],\"heatmapgl\":[{\"colorbar\":{\"outlinewidth\":0,\"ticks\":\"\"},\"colorscale\":[[0.0,\"#0d0887\"],[0.1111111111111111,\"#46039f\"],[0.2222222222222222,\"#7201a8\"],[0.3333333333333333,\"#9c179e\"],[0.4444444444444444,\"#bd3786\"],[0.5555555555555556,\"#d8576b\"],[0.6666666666666666,\"#ed7953\"],[0.7777777777777778,\"#fb9f3a\"],[0.8888888888888888,\"#fdca26\"],[1.0,\"#f0f921\"]],\"type\":\"heatmapgl\"}],\"histogram\":[{\"marker\":{\"pattern\":{\"fillmode\":\"overlay\",\"size\":10,\"solidity\":0.2}},\"type\":\"histogram\"}],\"histogram2d\":[{\"colorbar\":{\"outlinewidth\":0,\"ticks\":\"\"},\"colorscale\":[[0.0,\"#0d0887\"],[0.1111111111111111,\"#46039f\"],[0.2222222222222222,\"#7201a8\"],[0.3333333333333333,\"#9c179e\"],[0.4444444444444444,\"#bd3786\"],[0.5555555555555556,\"#d8576b\"],[0.6666666666666666,\"#ed7953\"],[0.7777777777777778,\"#fb9f3a\"],[0.8888888888888888,\"#fdca26\"],[1.0,\"#f0f921\"]],\"type\":\"histogram2d\"}],\"histogram2dcontour\":[{\"colorbar\":{\"outlinewidth\":0,\"ticks\":\"\"},\"colorscale\":[[0.0,\"#0d0887\"],[0.1111111111111111,\"#46039f\"],[0.2222222222222222,\"#7201a8\"],[0.3333333333333333,\"#9c179e\"],[0.4444444444444444,\"#bd3786\"],[0.5555555555555556,\"#d8576b\"],[0.6666666666666666,\"#ed7953\"],[0.7777777777777778,\"#fb9f3a\"],[0.8888888888888888,\"#fdca26\"],[1.0,\"#f0f921\"]],\"type\":\"histogram2dcontour\"}],\"mesh3d\":[{\"colorbar\":{\"outlinewidth\":0,\"ticks\":\"\"},\"type\":\"mesh3d\"}],\"parcoords\":[{\"line\":{\"colorbar\":{\"outlinewidth\":0,\"ticks\":\"\"}},\"type\":\"parcoords\"}],\"pie\":[{\"automargin\":true,\"type\":\"pie\"}],\"scatter\":[{\"marker\":{\"colorbar\":{\"outlinewidth\":0,\"ticks\":\"\"}},\"type\":\"scatter\"}],\"scatter3d\":[{\"line\":{\"colorbar\":{\"outlinewidth\":0,\"ticks\":\"\"}},\"marker\":{\"colorbar\":{\"outlinewidth\":0,\"ticks\":\"\"}},\"type\":\"scatter3d\"}],\"scattercarpet\":[{\"marker\":{\"colorbar\":{\"outlinewidth\":0,\"ticks\":\"\"}},\"type\":\"scattercarpet\"}],\"scattergeo\":[{\"marker\":{\"colorbar\":{\"outlinewidth\":0,\"ticks\":\"\"}},\"type\":\"scattergeo\"}],\"scattergl\":[{\"marker\":{\"colorbar\":{\"outlinewidth\":0,\"ticks\":\"\"}},\"type\":\"scattergl\"}],\"scattermapbox\":[{\"marker\":{\"colorbar\":{\"outlinewidth\":0,\"ticks\":\"\"}},\"type\":\"scattermapbox\"}],\"scatterpolar\":[{\"marker\":{\"colorbar\":{\"outlinewidth\":0,\"ticks\":\"\"}},\"type\":\"scatterpolar\"}],\"scatterpolargl\":[{\"marker\":{\"colorbar\":{\"outlinewidth\":0,\"ticks\":\"\"}},\"type\":\"scatterpolargl\"}],\"scatterternary\":[{\"marker\":{\"colorbar\":{\"outlinewidth\":0,\"ticks\":\"\"}},\"type\":\"scatterternary\"}],\"surface\":[{\"colorbar\":{\"outlinewidth\":0,\"ticks\":\"\"},\"colorscale\":[[0.0,\"#0d0887\"],[0.1111111111111111,\"#46039f\"],[0.2222222222222222,\"#7201a8\"],[0.3333333333333333,\"#9c179e\"],[0.4444444444444444,\"#bd3786\"],[0.5555555555555556,\"#d8576b\"],[0.6666666666666666,\"#ed7953\"],[0.7777777777777778,\"#fb9f3a\"],[0.8888888888888888,\"#fdca26\"],[1.0,\"#f0f921\"]],\"type\":\"surface\"}],\"table\":[{\"cells\":{\"fill\":{\"color\":\"#EBF0F8\"},\"line\":{\"color\":\"white\"}},\"header\":{\"fill\":{\"color\":\"#C8D4E3\"},\"line\":{\"color\":\"white\"}},\"type\":\"table\"}]},\"layout\":{\"annotationdefaults\":{\"arrowcolor\":\"#2a3f5f\",\"arrowhead\":0,\"arrowwidth\":1},\"autotypenumbers\":\"strict\",\"coloraxis\":{\"colorbar\":{\"outlinewidth\":0,\"ticks\":\"\"}},\"colorscale\":{\"diverging\":[[0,\"#8e0152\"],[0.1,\"#c51b7d\"],[0.2,\"#de77ae\"],[0.3,\"#f1b6da\"],[0.4,\"#fde0ef\"],[0.5,\"#f7f7f7\"],[0.6,\"#e6f5d0\"],[0.7,\"#b8e186\"],[0.8,\"#7fbc41\"],[0.9,\"#4d9221\"],[1,\"#276419\"]],\"sequential\":[[0.0,\"#0d0887\"],[0.1111111111111111,\"#46039f\"],[0.2222222222222222,\"#7201a8\"],[0.3333333333333333,\"#9c179e\"],[0.4444444444444444,\"#bd3786\"],[0.5555555555555556,\"#d8576b\"],[0.6666666666666666,\"#ed7953\"],[0.7777777777777778,\"#fb9f3a\"],[0.8888888888888888,\"#fdca26\"],[1.0,\"#f0f921\"]],\"sequentialminus\":[[0.0,\"#0d0887\"],[0.1111111111111111,\"#46039f\"],[0.2222222222222222,\"#7201a8\"],[0.3333333333333333,\"#9c179e\"],[0.4444444444444444,\"#bd3786\"],[0.5555555555555556,\"#d8576b\"],[0.6666666666666666,\"#ed7953\"],[0.7777777777777778,\"#fb9f3a\"],[0.8888888888888888,\"#fdca26\"],[1.0,\"#f0f921\"]]},\"colorway\":[\"#636efa\",\"#EF553B\",\"#00cc96\",\"#ab63fa\",\"#FFA15A\",\"#19d3f3\",\"#FF6692\",\"#B6E880\",\"#FF97FF\",\"#FECB52\"],\"font\":{\"color\":\"#2a3f5f\"},\"geo\":{\"bgcolor\":\"white\",\"lakecolor\":\"white\",\"landcolor\":\"#E5ECF6\",\"showlakes\":true,\"showland\":true,\"subunitcolor\":\"white\"},\"hoverlabel\":{\"align\":\"left\"},\"hovermode\":\"closest\",\"mapbox\":{\"style\":\"light\"},\"paper_bgcolor\":\"white\",\"plot_bgcolor\":\"#E5ECF6\",\"polar\":{\"angularaxis\":{\"gridcolor\":\"white\",\"linecolor\":\"white\",\"ticks\":\"\"},\"bgcolor\":\"#E5ECF6\",\"radialaxis\":{\"gridcolor\":\"white\",\"linecolor\":\"white\",\"ticks\":\"\"}},\"scene\":{\"xaxis\":{\"backgroundcolor\":\"#E5ECF6\",\"gridcolor\":\"white\",\"gridwidth\":2,\"linecolor\":\"white\",\"showbackground\":true,\"ticks\":\"\",\"zerolinecolor\":\"white\"},\"yaxis\":{\"backgroundcolor\":\"#E5ECF6\",\"gridcolor\":\"white\",\"gridwidth\":2,\"linecolor\":\"white\",\"showbackground\":true,\"ticks\":\"\",\"zerolinecolor\":\"white\"},\"zaxis\":{\"backgroundcolor\":\"#E5ECF6\",\"gridcolor\":\"white\",\"gridwidth\":2,\"linecolor\":\"white\",\"showbackground\":true,\"ticks\":\"\",\"zerolinecolor\":\"white\"}},\"shapedefaults\":{\"line\":{\"color\":\"#2a3f5f\"}},\"ternary\":{\"aaxis\":{\"gridcolor\":\"white\",\"linecolor\":\"white\",\"ticks\":\"\"},\"baxis\":{\"gridcolor\":\"white\",\"linecolor\":\"white\",\"ticks\":\"\"},\"bgcolor\":\"#E5ECF6\",\"caxis\":{\"gridcolor\":\"white\",\"linecolor\":\"white\",\"ticks\":\"\"}},\"title\":{\"x\":0.05},\"xaxis\":{\"automargin\":true,\"gridcolor\":\"white\",\"linecolor\":\"white\",\"ticks\":\"\",\"title\":{\"standoff\":15},\"zerolinecolor\":\"white\",\"zerolinewidth\":2},\"yaxis\":{\"automargin\":true,\"gridcolor\":\"white\",\"linecolor\":\"white\",\"ticks\":\"\",\"title\":{\"standoff\":15},\"zerolinecolor\":\"white\",\"zerolinewidth\":2}}},\"title\":{\"text\":\"Aggregative active registration per day & the invitation per day\",\"x\":0.4,\"xanchor\":\"center\",\"y\":0.95,\"yanchor\":\"top\"},\"xaxis\":{\"range\":[\"2021-10-11T00:00:00\",\"2021-11-02\"],\"rangeslider\":{\"visible\":true},\"showticklabels\":true,\"title\":{\"text\":\"Registration Date\"},\"visible\":true},\"yaxis\":{\"showticklabels\":true,\"title\":{\"text\":\"Unique Registration/Day\"},\"visible\":true}},                        {\"responsive\": true}                    ).then(function(){\n",
       "                            \n",
       "var gd = document.getElementById('070bcc75-b096-4dbd-b8da-43ab13816627');\n",
       "var x = new MutationObserver(function (mutations, observer) {{\n",
       "        var display = window.getComputedStyle(gd).display;\n",
       "        if (!display || display === 'none') {{\n",
       "            console.log([gd, 'removed!']);\n",
       "            Plotly.purge(gd);\n",
       "            observer.disconnect();\n",
       "        }}\n",
       "}});\n",
       "\n",
       "// Listen for the removal of the full notebook cells\n",
       "var notebookContainer = gd.closest('#notebook-container');\n",
       "if (notebookContainer) {{\n",
       "    x.observe(notebookContainer, {childList: true});\n",
       "}}\n",
       "\n",
       "// Listen for the clearing of the current output cell\n",
       "var outputEl = gd.closest('.output');\n",
       "if (outputEl) {{\n",
       "    x.observe(outputEl, {childList: true});\n",
       "}}\n",
       "\n",
       "                        })                };                });            </script>        </div>"
      ]
     },
     "metadata": {},
     "output_type": "display_data"
    }
   ],
   "source": [
    "# Graph for the all types of participants\n",
    "fig = go.Figure()\n",
    "fig.add_trace(go.Scatter(x=a['registration_date'], y=a['cum_reg'], legendgroup='group',legendgrouptitle_text='All participant type', name='Cumulative graph', mode='lines+markers', marker=dict(color='crimson', size=6)))\n",
    "fig.add_trace(go.Scatter(x=b['invitation_date'], y=b['cum_inv'], legendgroup='group',name='Invitation date Cumulative graph', mode='lines+markers', marker=dict(color='#bcbd22', size=6)))\n",
    "fig.add_trace(go.Bar(x=a[\"registration_date\"], y=a[\"unique_count\"],legendgroup='group',name='Total registered id on unique date'))\n",
    "# Graph for the individual participants\n",
    "# In this dataset, there are 3 types of participants.So I am making the graph for the three types of participants\n",
    "#Job seeker\n",
    "fig.add_trace(go.Scatter(x=c_participant['reg_date'], y=c_participant['cumulative_value'], legendgroup='group2',legendgrouptitle_text='Participant type-Job seeker', name='Cumulative graph', mode='lines+markers', marker=dict(color='MediumPurple', size=6)))\n",
    "fig.add_trace(go.Scatter(x=d_participant['invitation_date'], y=d_participant['cum'], legendgroup='group2',name='Invitation date Cumulative graph for job seeker', mode='lines+markers', marker=dict(color='#e377c2', size=6)))\n",
    "fig.add_trace(go.Bar(x=c_participant[\"reg_date\"], y=c_participant[\"unique_value\"], legendgroup='group2', name='Total registerd id on unique date'))\n",
    "# For recruiter\n",
    "fig.add_trace(go.Scatter(x=e_participant['reg_date'], y=e_participant['cumulative_value'], legendgroup='group3',legendgrouptitle_text='Participant type-Recruiter', name='Cumulative graph', mode='lines+markers', marker=dict(color='chartreuse', size=6)))\n",
    "fig.add_trace(go.Scatter(x=f_participant['invitation_date'], y=f_participant['cum'], legendgroup='group3',name='Invitation date Cumulative graph for recruiter', mode='lines+markers', marker=dict(color='#2ca02c', size=6)))\n",
    "fig.add_trace(go.Bar(x=e_participant[\"reg_date\"], y=e_participant[\"unique_value\"], legendgroup='group3', name='Total registerd id on unique date',marker=dict(color='chartreuse')))\n",
    "#For service provider\n",
    "fig.add_trace(go.Scatter(x=e_participant['reg_date'], y=e_participant['cumulative_value'], legendgroup='group4',legendgrouptitle_text='Participant ype-Talent boost service provider', name='Cumulative graph', mode='lines+markers', marker=dict(color='darkblue', size=6)))\n",
    "fig.add_trace(go.Scatter(x=f_participant['invitation_date'], y=f_participant['cum'], legendgroup='group4',name='Invitation date Cumulative graph for service provider', mode='lines+markers', marker=dict(color='#2ca02c', size=6)))\n",
    "fig.add_trace(go.Bar(x=e_participant[\"reg_date\"], y=e_participant[\"unique_value\"], legendgroup='group4', name='Total registerd id on unique date',marker=dict(color='darkblue')))\n",
    "\n",
    "fig.update_xaxes(title='Registration Date',visible=True, showticklabels=True)\n",
    "fig.update_yaxes(title='Unique Registration/Day',visible=True, showticklabels=True)\n",
    "fig.update_layout(xaxis_range=[a['registration_date'].min(),'2021-11-02'])\n",
    "fig.update_xaxes(rangeslider_visible=True)\n",
    "fig.update_layout(\n",
    "    title={\n",
    "        'text': \"Aggregative active registration per day & the invitation per day\",\n",
    "        'y':.95,\n",
    "        'x':0.4,\n",
    "        'xanchor': 'center',\n",
    "        'yanchor': 'top'})\n",
    "\n",
    "fig.show()\n"
   ]
  },
  {
   "cell_type": "markdown",
   "id": "002b6cd7",
   "metadata": {},
   "source": [
    "### Conclusion\n",
    "The main task was to visualize the aggregative curve for the unique oarticipants on the unique date. I have tried to make it work for all the similar data set. We will give the structure of the column name to the developers and tell them to capture the raw data like this and it will work.When the management sector will see the graph before the event, they will be able to check are the participants activating their profile or not, how the rate of activation is growing comparing the invitation date. For example, from the job seeker graph, it can be illustarted that the on 27th October, the highest number of the job seekers (42) have been activated their profile and till October 28, total activated job seekers were 206 where as total 306 invitation had been sent to the job seekers till October 29. May be for some reason, some job seeker did not activate their profile. The reason could be maybe they forgot and did not get the emailor they have lost link for activating it etc. When they will see that activation rate is low,they can tell the event organizer for campaigining their event and send an email to the participants who doesn't activate their profile. If one wants to see only the one kind of participants, she/he can only click the any group of the legend; it will show the graph only for the selected one.\n",
    "\n",
    "<br>\n",
    "Thank you!"
   ]
  }
 ],
 "metadata": {
  "kernelspec": {
   "display_name": "Python 3 (ipykernel)",
   "language": "python",
   "name": "python3"
  },
  "language_info": {
   "codemirror_mode": {
    "name": "ipython",
    "version": 3
   },
   "file_extension": ".py",
   "mimetype": "text/x-python",
   "name": "python",
   "nbconvert_exporter": "python",
   "pygments_lexer": "ipython3",
   "version": "3.9.7"
  }
 },
 "nbformat": 4,
 "nbformat_minor": 5
}
